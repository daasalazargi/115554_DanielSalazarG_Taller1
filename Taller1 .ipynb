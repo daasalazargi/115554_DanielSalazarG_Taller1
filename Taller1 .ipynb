{
 "cells": [
  {
   "cell_type": "markdown",
   "metadata": {},
   "source": [
    "# TALLER PROGRAMACIÓN #1  Daniel Andres Salazar Giraldo"
   ]
  },
  {
   "cell_type": "markdown",
   "metadata": {},
   "source": [
    "## Punto número 1"
   ]
  },
  {
   "cell_type": "code",
   "execution_count": 1,
   "metadata": {},
   "outputs": [
    {
     "name": "stdout",
     "output_type": "stream",
     "text": [
      "digite un numero cualquiera: -54\n",
      "el valor absoluto es:  54.0\n"
     ]
    }
   ],
   "source": [
    "#Sin utilizar el comando abs, escribir un programa que calcule e \n",
    "#imprima el valor absoluto de cualquier número (sea entero o decimal).\n",
    "\n",
    "n = float(input ('digite un numero cualquiera: ')) #ingresa el numero \n",
    "\n",
    "if n>=0:\n",
    "    print('el valor absoluto es: ',n) #se comprueba si es positivo\n",
    "\n",
    "if n<0:\n",
    "    n= n*-1\n",
    "    print('el valor absoluto es: ',n)# si no lo es se hace positivo e imprime\n",
    "    "
   ]
  },
  {
   "cell_type": "markdown",
   "metadata": {},
   "source": [
    "## Punto número 2"
   ]
  },
  {
   "cell_type": "code",
   "execution_count": 2,
   "metadata": {},
   "outputs": [
    {
     "name": "stdout",
     "output_type": "stream",
     "text": [
      "digite un numero entero: -987654321\n",
      "  el numero entero es negativo\n",
      "123456789"
     ]
    }
   ],
   "source": [
    "#Leer un número entero y escribirlo en reversa. Por ejemplo, 461975 será \n",
    "#579164. No utilizar comandos de ordenamiento.\n",
    "\n",
    "r= int(input('digite un numero entero: ')) #ingresa el numero entero\n",
    "\n",
    "if r <0: #se comprueba si es negativo y se hace positivo\n",
    "    r= r*-1\n",
    "    e= 1\n",
    "\n",
    "    if e>0:\n",
    "        print ('  el numero entero es negativo') #se deja la constancia final\n",
    "\n",
    "\n",
    "while r !=0: #solo se detiene cuando llega a cero es decir que paso todos los\n",
    "             #digitos del numero\n",
    "            \n",
    "    n= r%10  #para hallar el ultimo digito\n",
    "    r= int(r/10) #se guarda en una variable\n",
    "    print ('%d'%(n),end='') #se imprime uno por uno sin espacio"
   ]
  },
  {
   "cell_type": "markdown",
   "metadata": {},
   "source": [
    "## Punto número 3"
   ]
  },
  {
   "cell_type": "code",
   "execution_count": 3,
   "metadata": {},
   "outputs": [
    {
     "name": "stdout",
     "output_type": "stream",
     "text": [
      "digite un numero de 3 digitos: 4561\n",
      "el numero no es valido ingrese otro\n",
      "digite un numero de 3 digitos: 118\n",
      "SI existe el digito 8 en el numero escrito\n"
     ]
    }
   ],
   "source": [
    "#Leer un número entero de 3 dígitos y determinar si contiene el dígito 8.\n",
    "\n",
    "e= int(input('digite un numero de 3 digitos: ')) #se lee y almacena el numero\n",
    "a=1 #interruptor\n",
    "\n",
    "while a>0: \n",
    "\n",
    "    if e <0: #se comprueba si negativo\n",
    "        e= e*-1 #se lleva a positivo\n",
    "    e=str(e) #se hace string para mejor manejo\n",
    "\n",
    "\n",
    "    if len(e)!=3 :\n",
    "      print('el numero no es valido ingrese otro')\n",
    "      e= int(input('digite un numero de 3 digitos: ')) #si no es valdo se dice\n",
    "      \n",
    "    else:\n",
    "      a=a-1 #si es valido interruptor permite le paso\n",
    "        \n",
    "\n",
    "if '8' in e : #se busca el numero 8 en el numero y se imprime segun el caso\n",
    "        print('SI existe el digito 8 en el numero escrito')\n",
    "    \n",
    "else:\n",
    "        print('NO existe el digito 8 en el numero escrito')"
   ]
  },
  {
   "cell_type": "markdown",
   "metadata": {},
   "source": [
    "## Punto número 4"
   ]
  },
  {
   "cell_type": "code",
   "execution_count": 4,
   "metadata": {},
   "outputs": [
    {
     "name": "stdout",
     "output_type": "stream",
     "text": [
      "digite un numero entero positivo: 123456\n",
      "la suma de los digitos pares del numero es:  12\n"
     ]
    }
   ],
   "source": [
    "#Leer un número entero positivo y determinar la suma de sus dígitos pares. \n",
    "#Por ejemplo, en el número 124, los dígitos pares son el 2 y el 4 y \n",
    "#su suma vale 6.\n",
    "\n",
    "a=1 #interruptor\n",
    "\n",
    "ne= int(input('digite un numero entero positivo: '))\n",
    "while a>0: #se comprueba si positivo\n",
    "\n",
    "    if ne <0: #si no es valido se dice\n",
    "        print('no es un numero positivo ingrese otro')\n",
    "        ne= int(input('digite un numero entero positivo: '))\n",
    "    else:\n",
    "      a=a-1 #interruptor permite el paso\n",
    "\n",
    "suma=0 #variable \n",
    "while ne>0:\n",
    "    ud= ne- int(ne/10)*10 #se halla el ultimo digito\n",
    "    ne= int(ne/10) #se guarda el nuevo numero sin el ultimo digito\n",
    "    if int(ud/2)*2==ud : #se comprueba si es par\n",
    "        suma= suma+ud #se suma\n",
    "        \n",
    "print('la suma de los digitos pares del numero es: ',suma) #se imprime la suma"
   ]
  },
  {
   "cell_type": "markdown",
   "metadata": {},
   "source": [
    "## Punto número 5"
   ]
  },
  {
   "cell_type": "code",
   "execution_count": 5,
   "metadata": {},
   "outputs": [
    {
     "name": "stdout",
     "output_type": "stream",
     "text": [
      "ingrese un numero entero: 652155235555485\n",
      "en este numero existen 6 cincos consecutivos\n"
     ]
    }
   ],
   "source": [
    "#Leer un número entero y determinar el número de cincos que están consecutivos\n",
    "# en un número. Por ejemplo, en 5512355551 hay 6 cincos consecutivos. \n",
    "#Ahora, en 234555234512 solo hay 3 cincos consecutivos.\n",
    "\n",
    "c= input('ingrese un numero entero: ') #se ingresa el numero entero\n",
    "c5=0 \n",
    "\n",
    "for a in range(len(c)):#se itera en la longitud del numero\n",
    "    if c[a]=='5': #se buscan los 5 presentes\n",
    "       \n",
    "            if c[a-2]=='5' and c[a-1]=='5': \n",
    "                c5+=1   #cuenta solo uno por que si se cumple el ciclo ya ha\n",
    "                        #habria sumado los otros cincos\n",
    "            elif c[a-1]=='5':\n",
    "                c5+=2  #se suma 2 por que apenas comienza el ciclo \n",
    "       \n",
    "\n",
    "print ('en este numero existen',c5,'cincos consecutivos')#se imprime resultado"
   ]
  },
  {
   "cell_type": "markdown",
   "metadata": {},
   "source": [
    "## Punto número 6"
   ]
  },
  {
   "cell_type": "code",
   "execution_count": 7,
   "metadata": {},
   "outputs": [
    {
     "name": "stdout",
     "output_type": "stream",
     "text": [
      "ingrese un numero entero: 654\n",
      "[1, 1, 2, 3, 5, 8, 13, 21, 34, 55, 89, 144, 233, 377, 610]\n",
      "la suma de los digitos:  15  NO es un numero de fibonacci\n"
     ]
    }
   ],
   "source": [
    "                    #Leer un número entero y determinar si la suma \n",
    "                    #de sus dígitos es un número de Fibonacci.\n",
    "                    \n",
    "fibonacci= [] #variable para la serie de fibonacci\n",
    "a =1 #variable necesaria para la serie\n",
    "b =1 #variable necesaria para la serie\n",
    "suma= 0 #variable para la suma\n",
    "\n",
    "n= int(input('ingrese un numero entero: '))#se ingresa el número\n",
    "\n",
    "if n<0: #se comprueba si positivo\n",
    "    n*=-1 #se hace positivo\n",
    "\n",
    "\n",
    "while a<n:\n",
    "        fibonacci.append(a)\n",
    "        a,b = b,b+a #desarrollo de la serie de fibonacci\n",
    "print(fibonacci)\n",
    "\n",
    "while n>0:\n",
    "    ud= n- int(n/10)*10 #se halla digito a digito sacando el ultimo cada vez\n",
    "    n= int(n/10) #se define el numero nuevo sin el ultimo digito\n",
    "    suma= suma+ud #se suman los digitos\n",
    "\n",
    "if suma in fibonacci: #se busca el resultado en la serie\n",
    "    print('la suma de los digitos: ',suma,' es un numero de fibonacci')\n",
    "  \n",
    "else:\n",
    "    print ('la suma de los digitos: ',suma,' NO es un numero de fibonacci')\n",
    "    \n",
    "    #se imprime según lo encontrado"
   ]
  },
  {
   "cell_type": "markdown",
   "metadata": {},
   "source": [
    "## Punto número 7"
   ]
  },
  {
   "cell_type": "code",
   "execution_count": 9,
   "metadata": {},
   "outputs": [
    {
     "name": "stdout",
     "output_type": "stream",
     "text": [
      "digite un numero entero positivo: 321458756134\n",
      "los digitos repetidos en el numero digitado son:  ['5', '1', '3', '4']\n"
     ]
    }
   ],
   "source": [
    "#Leer un número entero positivo y determine si existen en el número /\n",
    "#dígitos repetidos. Reporte cuales son los dígitos repetidos.\n",
    "\n",
    "i=0 #interruptor\n",
    "r=[]#variable para lista de repetidos\n",
    "n= input('digite un numero entero positivo: ')#se ingresa el número\n",
    "\n",
    "if '-' in n:\n",
    "    print('no es un numero positivo ingrese otro')\n",
    "    n= input('digite un numero entero positivo: ')#si no es valido se dice\n",
    "    \n",
    "for a in range(len(n)):#se itera en la longitud del numero ya que se tiene en\n",
    "                        #string para trabajarlo mucho más facil\n",
    "    if n.count(n[a]) > 1: #si hay numeros repetidos\n",
    "        r.append(n[a]) #se agrega a (a)\n",
    "        i+= 1   #suma al interruptor\n",
    "        for s in r: \n",
    "            while r.count(s)>1: #se quitan los elementos repetidos de la lista\n",
    "                r.remove(s)\n",
    "\n",
    "if i==0: \n",
    "    print('No hay digitos repetidos en el numero')\n",
    "\n",
    "else:\n",
    "    print('los digitos repetidos en el numero digitado son: ',r)\n",
    "    #se imprime según sea el caso"
   ]
  },
  {
   "cell_type": "markdown",
   "metadata": {},
   "source": [
    "## Punto número 8"
   ]
  },
  {
   "cell_type": "code",
   "execution_count": 11,
   "metadata": {},
   "outputs": [
    {
     "name": "stdout",
     "output_type": "stream",
     "text": [
      "los 15 primeros multiplos de 3 en el rango de (0 a 100) son:  [0, 3, 6, 9, 12, 15, 18, 21, 24, 27, 30, 33, 36, 39, 42, 45]\n",
      "los multiplos de 4 en el rango de (0 a 100) son:  [48, 52, 56, 60, 64, 68, 72, 76, 80, 84, 88, 92, 96, 100]\n"
     ]
    }
   ],
   "source": [
    "#Iterar a través de los primeros cien enteros positivos, buscando los \n",
    "#múltiplos de 3 e imprimiendo y almacenándolos en una lista hasta encontrar \n",
    "#los primeros 15 de ellos. Una vez encontrados, continuar iterando en \n",
    "#busca de los múltiplos de 4 y almacenarlos en otra lista.\n",
    "\n",
    "\n",
    "conta = 0 #variable contador\n",
    "multi3= [] #variable lista\n",
    "multi4= [] #variable lista\n",
    "\n",
    "for s in range(0,101): #se itera hasta el 101 por que no coge el ultimo \n",
    "        if s% 3 == 0 and conta<= 15: #se busca multiplo de 3 \n",
    "           \n",
    "            conta = conta + 1       #si encunetra sum contador   \n",
    "            multi3.append(s) #si encunetra se añde a la lista \n",
    "            i= s\n",
    "print('los 15 primeros multiplos de 3 en el rango de (0 a 100) son: ',multi3)\n",
    "\n",
    "\n",
    "for a in range(i,101):#se itera hasta el 101 por que no coge el ultimo\n",
    "        if a% 4== 0:#se busca multiplo de 4\n",
    "            \n",
    "            multi4.append(a) #si encunetra se añde a la lista \n",
    "            \n",
    "print('los multiplos de 4 en el rango de (0 a 100) son: ',multi4)\n",
    "\n",
    "# se imprimen ambas listas\n"
   ]
  },
  {
   "cell_type": "markdown",
   "metadata": {},
   "source": [
    "## Punto número 9"
   ]
  },
  {
   "cell_type": "code",
   "execution_count": 10,
   "metadata": {},
   "outputs": [
    {
     "name": "stdout",
     "output_type": "stream",
     "text": [
      "ingrese la coordenada x del circulo #1: 5\n",
      "ingrese la coordenada y del circulo #1: 5\n",
      "ingrese el radio del circulo #1: 10\n",
      "ingrese la coordenada x del centro circulo #1: 0\n",
      "ingrese la coordenada y del circulo #1: 0\n",
      "ingrese el radio del circulo #1: 50\n",
      "digite coordenada x: 4\n",
      "digite coordenada y: 75\n",
      "las coordenadas estan fuera del circulo #1\n",
      "las coordenadas estan fuera del circulo #2\n",
      "las coordenadas del punto estan fuera de ambos circulos\n"
     ]
    }
   ],
   "source": [
    "#Hacer un programa que lea las coordenadas (x1,y1,r1) y (x2,y2,r2)\n",
    "# que corresponden al centro y al radio de dos círculos. \n",
    "#Lea un punto de coordenadas (a,b). Determina si (a,b) \n",
    "#está contenido: a) dentro del círculo 1; b) dentro del círculo 2; \n",
    "#c) dentro de ambos círculos; d) fuera de ambos círculos. \n",
    "#Recordemos que el círculo es el lugar geométrico de los puntos \n",
    "#del plano cuya distancia a otro punto fijo, llamado centro, \n",
    "#es menor o igual que una cantidad constante, llamada radio.\n",
    "\n",
    "\n",
    "x1 =int(input('ingrese la coordenada x del circulo #1: '))\n",
    "y1 =int(input('ingrese la coordenada y del circulo #1: '))\n",
    "r1 =int(input('ingrese el radio del circulo #1: '))\n",
    "\n",
    "x2 =int(input('ingrese la coordenada x del centro circulo #1: '))\n",
    "y2 =int(input('ingrese la coordenada y del circulo #1: '))\n",
    "r2 =int(input('ingrese el radio del circulo #1: '))                  \n",
    "             \n",
    "i=0       #interruptor         \n",
    "                    \n",
    "a = int(input('digite coordenada x: ')) #se ingresa el número\n",
    "b = int(input('digite coordenada y: ')) #se ingresa el número                   \n",
    "\n",
    "\n",
    "if (a>x1-r1) and (a<x1+r1) and (b>y1-r1) and (b<y1+r1) and (a>x2-r2)\\\n",
    " and (a<x2+r2) and (b>y2-r2) and (b<y2+r2) :\n",
    "     print('las coordenadas estan dentro de ambos circulos') #se imprime\n",
    "     i+=1 #se busca dentro de los dos y si true se suma al interruptor\n",
    "if (a>x1-r1) and (a<x1+r1) and (b>y1-r1) and (b<y1+r1):\n",
    "    print('las coordenadas estan dentro del circulo #1') #se imprime\n",
    "    i+=1 #se busca dentro del circulo 1 y si true suma al interruptor\n",
    "else:\n",
    "    print('las coordenadas estan fuera del circulo #1')#se imprime\n",
    "          \n",
    "if (a>x2-r2) and (a<x2+r2) and (b>y2-r2) and (b<y2+r2):\n",
    "    print('las coordenadas estan dentro del circulo #2')#se imprime\n",
    "    i+=1 #se busca dentro del circulo 2 y si true suma al interruptor\n",
    "else:\n",
    "    print('las coordenadas estan fuera del circulo #2')      #se imprime    \n",
    "          \n",
    "if i==0:\n",
    "    print('las coordenadas del punto estan fuera de ambos circulos')"
   ]
  },
  {
   "cell_type": "markdown",
   "metadata": {},
   "source": [
    "## Punto número 10"
   ]
  },
  {
   "cell_type": "code",
   "execution_count": 8,
   "metadata": {},
   "outputs": [
    {
     "name": "stdout",
     "output_type": "stream",
     "text": [
      "escriba su texto: danisa es una chimba\n",
      "DANISA ES UNA CHIMBA"
     ]
    }
   ],
   "source": [
    "#Sin utilizar el método .upper() para cadenas, \n",
    "#escribir un programa que lea una cadena de texto \n",
    "#y la imprima en mayúscula. Tenga en cuenta que \n",
    "#el programa debe aceptar las letras con tilde, la ñ y la ü.\n",
    "\n",
    "p= input('escriba su texto: ') #se ingresa la cadena de texto\n",
    "\n",
    "for i in range(0,len(p)): #se itera buscando minusculas\n",
    "   \n",
    "    if ord(p[i])>=97 and ord(p[i])<=122 or ord(p[i])>=225 and ord(p[i])<=252:\n",
    "        \n",
    "        ma= chr(ord(p[i])-32) #se reduce en 32 por que las mayusculas se \n",
    "        print(ma, end='')     #encunetran 32 numeros mas abajo en el codigo \n",
    "                              #acsii cumpliendose para todas las letras                           \n",
    "      \n",
    "    if ord(p[i])>=65 and ord(p[i])<=90 or ord(p[i])>=193 and ord(p[i])<=218\\\n",
    "    or ord(p[i])==32: #se buscan si myusculas\n",
    "       \n",
    "        ma= chr(ord(p[i]))\n",
    "        print(ma, end='') #se imprime cada letra por seprado sin espacio\n",
    "   "
   ]
  },
  {
   "cell_type": "markdown",
   "metadata": {},
   "source": [
    "## Punto número 11"
   ]
  },
  {
   "cell_type": "code",
   "execution_count": 6,
   "metadata": {},
   "outputs": [
    {
     "name": "stdout",
     "output_type": "stream",
     "text": [
      "escriba su texto: while in if raise in mama en tanga 123 áéí Á\n",
      "se ingresaron  1 Vocales Mayusculas\n",
      "se ingresaron  4 Letras con tilde\n",
      "se ingresaron  3 digitos\n",
      "se ingresaron  10 espacios\n",
      "se ingresaron  5 palabras reservadas\n"
     ]
    }
   ],
   "source": [
    "#11. Escribir un programa que reciba una cadena de texto y reporte:\n",
    "#a) cuántas letras vocales en mayúscula se entraron;\n",
    "#b) cuántas letras con tilde se entraron (minúsculas y mayúsculas);\n",
    "#c) cuántos dígitos se entraron,\n",
    "#d) cuántos espacios se entraron;\n",
    "#e) cuántas palabras reservadas se entraron.\n",
    "#Utilizar para ello los métodos de cadenas especializados como \n",
    "#.isupper(), .isdigit(), etc. y la palabra reservada in\n",
    "\n",
    "\n",
    "conv=0 #contador de vocales mayusculas\n",
    "cont=0 #contador de tilde\n",
    "cond=0 #contador de digitos\n",
    "cone=0 #contador de espacios\n",
    "conr=0 #contador de palabras reservadas\n",
    "pr=['if','and','del',\\\n",
    "'assert','in','else',\\\n",
    "'return','break','global',\\\n",
    "'exec','import','yield',\\\n",
    "'def','elif','except',\\\n",
    "'continue','not','try',\\\n",
    "'or','while','print',\\\n",
    "'assert','for','is',\\\n",
    "'from','class','finally',\\\n",
    "'lambda','return','raise']\n",
    "# se hizo una lista con todas las palabras reservadas\n",
    "\n",
    "p= input('escriba su texto: ') #se ingresa texto\n",
    "\n",
    "for i in range(0,len(p)):\n",
    "   \n",
    "    if p[i].isupper()==True:        #identificar si es mayuscula y si es vocal\n",
    "        if ord(p[i])==65 or ord(p[i])==69 or ord(p[i])==73 or ord(p[i])==79\\\n",
    "        or ord(p[i])==85 or ord(p[i])==193 or ord(p[i])==201 or ord(p[i])==205\\\n",
    "        or ord(p[i])==211 or ord(p[i])==218:\n",
    "        \n",
    "          conv+= 1  #sumarlo al contador de vocales mayusculas\n",
    "#identificar si hay letras con tilde \n",
    "    if ord(p[i])==225 or ord(p[i])==233 or ord(p[i])==237 or ord(p[i])==243\\\n",
    "    or ord(p[i])==250 or ord(p[i])==193 or ord(p[i])==201 or ord(p[i])==205\\\n",
    "    or ord(p[i])==211 or ord(p[i])==218:\n",
    "        \n",
    "        cont+= 1 #sumar al contador de letras con tilde\n",
    "\n",
    "    if p[i].isdigit()==True: #comprobar si hay digitos\n",
    "        \n",
    "        cond+= 1 #sumar al contador de digitos\n",
    "    \n",
    "    if ord(p[i])==32: #contar el numero de espacios\n",
    "        \n",
    "        cone+= 1 #sumar al contador de espacios\n",
    "\n",
    "\n",
    "d= p.split()  #se lleva la cadena de texto a una lista para evaluar cada cosa\n",
    "for s in range(len(d)): #se itera en la longitud de la lista creada\n",
    "       if d[s] in pr: #se buscan las palabras reservadas\n",
    "    \n",
    "            conr+= 1 #se suma al contador de palabras reservadas\n",
    "                 \n",
    "\n",
    "\n",
    "print('se ingresaron ',conv,'Vocales Mayusculas')\n",
    "print('se ingresaron ',cont,'Letras con tilde')\n",
    "print('se ingresaron ',cond,'digitos')\n",
    "print('se ingresaron ',cone,'espacios')\n",
    "print('se ingresaron ',conr,'palabras reservadas')\n",
    "\n",
    "# se imprimen cada uno de los resultados con su enunciado y v ariable \n"
   ]
  },
  {
   "cell_type": "markdown",
   "metadata": {},
   "source": [
    "## Punto número 12"
   ]
  },
  {
   "cell_type": "code",
   "execution_count": 12,
   "metadata": {},
   "outputs": [
    {
     "name": "stdout",
     "output_type": "stream",
     "text": [
      "escriba una palabra: ñandu\n",
      "escriba otra palabra: ñero\n",
      "ñandu está primero en el diccionario que ñero\n"
     ]
    }
   ],
   "source": [
    "#Hacer un programa que lea dos palabras (podrían estar en mayúscula \n",
    "#o minúscula) y determine cual está primero en el diccionario. \n",
    "#El programa debe soportar letras con tilde, la ü y la ñ.\n",
    "\n",
    "i1=0 #variable contador\n",
    "while i1==0:\n",
    "\n",
    "    p1= input('escriba una palabra: ') #se ingresa la palabra\n",
    "    p2= input('escriba otra palabra: ') #se ingresa la palabra\n",
    "    m1= p1.lower() \n",
    "    m2= p2.lower() #se hacen minusculas ambas palabras para compararlas\n",
    "    i=0 #contador para imprimir\n",
    "\n",
    "\n",
    "    m1=m1.replace('á','a')\n",
    "    m1=m1.replace('é','e')\n",
    "    m1=m1.replace('í','i')\n",
    "    m1=m1.replace('ó','o')\n",
    "    m1=m1.replace('ú','u')\n",
    "    m1=m1.replace('ü','u')\n",
    "    #se reemplazan todas las letras con tilde para comparar bien\n",
    "    m2=m2.replace('á','a')\n",
    "    m2=m2.replace('é','e')\n",
    "    m2=m2.replace('í','i')\n",
    "    m2=m2.replace('ó','o')\n",
    "    m2=m2.replace('ú','u')\n",
    "    m2=m2.replace('ü','u')\n",
    "\n",
    "    if p1==p2: #se busca si las palabras son iguales entre si\n",
    "        i1+=0\n",
    "        print('las palabras escritas son iguales, empiece de nuevo')\n",
    "\n",
    "    \n",
    "    if p1!=p2: #se busca si las palabras son diferente si true suma contador\n",
    "        i1+=1\n",
    "        if len(p1)>len(p2): #se compara las longitudes y se toma la menor \n",
    "            l= len(p2)      \n",
    "        else:\n",
    "            l= len(p1)\n",
    "\n",
    "for s in range(l): \n",
    "    \n",
    "            n1= ord(m1[s]) #se asignan variable a las posiciones en el \n",
    "            n2= ord(m2[s]) #codigo ascii para poder comparar\n",
    "            \n",
    "            if n1==241:\n",
    "                n1= 110.5 #se hace la distincion para la ñ \n",
    "                \n",
    "            if n2==241:\n",
    "                n2= 110.5\n",
    "            \n",
    "            if n1<n2: #se compara letra por letra su posición en el\n",
    "                i+=1  #codigo ascii ya que ahi estan en orden alfabetico\n",
    "            \n",
    "            if n1>n2: \n",
    "                i-=1\n",
    "                \n",
    "            if n1==n2:\n",
    "                i=0\n",
    "                \n",
    "            if i!=0: #si se encuentra que las letras son iguales parar\n",
    "                break\n",
    "\n",
    "\n",
    "if i >0:\n",
    "    print(p1,'está primero en el diccionario que',p2)\n",
    "\n",
    "\n",
    "if i <0:\n",
    "    print(p2,'está primero en el diccionario que',p1)\n",
    "\n",
    "\n",
    "if i ==0:\n",
    "    print(p1,'y',p2,'están en el mismo lugar en el diccionario')\n",
    "    \n",
    "       \n",
    "        # se imprime segun sea el caso y con ayuda del interruptor mencionado"
   ]
  },
  {
   "cell_type": "markdown",
   "metadata": {},
   "source": [
    "## Punto número 13"
   ]
  },
  {
   "cell_type": "markdown",
   "metadata": {},
   "source": [
    "Pendiente de entrega"
   ]
  },
  {
   "cell_type": "markdown",
   "metadata": {},
   "source": [
    "## Punto número 14"
   ]
  },
  {
   "cell_type": "code",
   "execution_count": 13,
   "metadata": {},
   "outputs": [
    {
     "name": "stdout",
     "output_type": "stream",
     "text": [
      "escriba su cadena de texto en minuscula: su mama\n",
      "aammsu"
     ]
    }
   ],
   "source": [
    "#Leer una cadena de texto y organice alfabéticamente \n",
    "#cada una de las letras que la componen, repitiendo cada una\n",
    "#tantas veces como se encuentra. Por ejemplo, la cadena ‘tarea importante’ \n",
    "#será ‘aaaeeimnoprrttt’. (Note que no se incluyen los espacios).\n",
    "\n",
    "c= input('escriba su cadena de texto en minuscula: ') #se ingresa la cadena \n",
    "\n",
    "tc = list(c) #la cadena se hace una lista para trabajarla mejor\n",
    "\n",
    "\n",
    "for e in range(len(tc)):\n",
    "    if ' ' in tc: #se borran los espacio pues no se necesitan\n",
    "        tc.remove(' ')\n",
    "        \n",
    "tc.sort() #se ordena se manera alfabetica ascendente\n",
    "\n",
    "for a in range(len(tc)): #se imprime letra por letra sin espacio\n",
    "    print(tc[a],end='')\n",
    "\n"
   ]
  },
  {
   "cell_type": "markdown",
   "metadata": {},
   "source": [
    "## Punto número 15"
   ]
  },
  {
   "cell_type": "code",
   "execution_count": 14,
   "metadata": {},
   "outputs": [
    {
     "name": "stdout",
     "output_type": "stream",
     "text": [
      "diga el tamaño de la lista: 5\n",
      "escriba el digito # 1 de la lista: 17\n",
      "escriba el digito # 2 de la lista: 17\n",
      "escriba el digito # 3 de la lista: 4\n",
      "escriba el digito # 4 de la lista: 5\n",
      "escriba el digito # 5 de la lista: 5\n",
      "existen 2 numeros que se repiten 2 veces exactamente y son: [5, 17]\n"
     ]
    }
   ],
   "source": [
    "#Leer una lista de números enteros y enumerar \n",
    "#cuantos elementos se repiten exactamente dos veces. Utilizar para tal\n",
    "#fin el método count() de listas.\n",
    "\n",
    "lista=[] #variable lista original\n",
    "l2=[] #variable lista repetidos 2 veces exactas\n",
    "\n",
    "\n",
    "len1 = int(input('diga el tamaño de la lista: '))  #tamaño lista 1\n",
    "\n",
    "while len1< 0:\n",
    "    print('Longitud invalidad') #si no es valido se dice\n",
    "    len1 = int(input('diga el tamaño de la lista: ')) #empieza de nuevo\n",
    "\n",
    "else:    \n",
    "\n",
    "    for d in range(len1):\n",
    "        lista.append(int(input(f'escriba el digito # {d+1} de la lista: ')))\n",
    "\n",
    "o=min(lista) #se establece max y min para rangos de iteracion\n",
    "f=max(lista) \n",
    "for i in range(o,f+1): #se itera\n",
    "    \n",
    "    \n",
    "    if lista.count(i)==2: #se buscan repeticiones de 2 veces exactas\n",
    "        l2.append(i) #se agrega a la lista de los repetidos\n",
    "        \n",
    "print('existen',len(l2),'numeros que se repiten 2 veces exactamente y son:',l2)\n",
    "    \n",
    "    # se imprime según conveniencia"
   ]
  },
  {
   "cell_type": "markdown",
   "metadata": {},
   "source": [
    "## Punto número 16"
   ]
  },
  {
   "cell_type": "code",
   "execution_count": 1,
   "metadata": {},
   "outputs": [
    {
     "name": "stdout",
     "output_type": "stream",
     "text": [
      "longitud de la lista de numeros: 5\n",
      "escriba el elemento #1: 1\n",
      "escriba el elemento #2: 2\n",
      "escriba el elemento #3: 4\n",
      "escriba el elemento #4: 5\n",
      "escriba el elemento #5: 6\n",
      "ingrese el numero que desea agregar a la lista: 3\n",
      "su nueva lista es la siguiente:  [1, 2, 3, 4, 5, 6]\n"
     ]
    }
   ],
   "source": [
    "#Leer una lista de números ya ordenados de forma ascendente \n",
    "#y verificar que dicha lista está ordenada. Luego, leer un\n",
    "#número e insertarlo en la lista en la posición que le \n",
    "#corresponde a dicho número.\n",
    "\n",
    "\n",
    "l=[] #variable para la lista\n",
    "\n",
    "len1 = int(input('longitud de la lista de numeros: '))  #tamaño lista \n",
    "\n",
    "while len1< 0:\n",
    "    print('Longitud invalidad') #para comprobar que la longitud es positiva\n",
    "    len1 = int(input('diga el tamaño de la lista: ')) \n",
    "    \n",
    "else:    \n",
    "\n",
    "    for d in range(len1):  #ingreso de cada una de los numeros de la lista\n",
    "        l.append(int(input(f'escriba el elemento #{d+1}: ')) )\n",
    "        \n",
    "        \n",
    "o= l.copy() #variable para comparar lista\n",
    "o.sort()\n",
    "\n",
    "if l!=o:\n",
    "    print('la lista de numeros ingresada no se encuentra ordenada, comience\\\n",
    " de nuevo el algoritmo') #caso de que no este ordenada\n",
    "    \n",
    "else:\n",
    "    n= int(input('ingrese el numero que desea agregar a la lista: '))\n",
    "    # numero que se debe de ingresar en la posicion adecuada a la lista\n",
    "    l.append(n) # se agrega el nuevo numero\n",
    "    \n",
    "    l.sort() #se ordena de manera que quede en su lugar adecuado\n",
    "    print('su nueva lista es la siguiente: ',l)        \n",
    "        "
   ]
  },
  {
   "cell_type": "markdown",
   "metadata": {},
   "source": [
    "## Punto número 17"
   ]
  },
  {
   "cell_type": "code",
   "execution_count": 15,
   "metadata": {},
   "outputs": [
    {
     "name": "stdout",
     "output_type": "stream",
     "text": [
      "diga el tamaño de la lista: 4\n",
      "escriba el digito # 1 de la lista: 20\n",
      "escriba el digito # 2 de la lista: 17\n",
      "escriba el digito # 3 de la lista: 4\n",
      "escriba el digito # 4 de la lista: 57\n",
      "el segundo elemneto más grande de la lista es:  20\n"
     ]
    }
   ],
   "source": [
    "#Leer una lista y determinar cuál es el segundo elemento \n",
    "#más grande de dicha lista. No utilice ningún tipo de algoritmo\n",
    "#de ordenamiento para realizar este ejercicio.\n",
    "\n",
    "\n",
    "lista=[] #variable lista original\n",
    "\n",
    "len1 = int(input('diga el tamaño de la lista: '))  #tamaño lista 1\n",
    "\n",
    "while len1< 0:\n",
    "    print('Longitud invalidad') #si no es valido se dice\n",
    "    len1 = int(input('diga el tamaño de la lista: ')) #empieza de nuevo\n",
    "\n",
    "else:    \n",
    "\n",
    "    for d in range(len1): #se itera para pedir los datos uno a uno\n",
    "        lista.append(int(input(f'escriba el digito # {d+1} de la lista: ')))\n",
    "                               #se añaden los digitos de la lista\n",
    "\n",
    "t=lista.copy()  #se copia la lista\n",
    "t.remove(max(t)) #se elimina el actualmente mayor\n",
    "s=max(t) #se halla el mayor ahora que sera el segundo en la realidad \n",
    "\n",
    "print('el segundo elemneto más grande de la lista es: ',s) #se imprime\n",
    "\n",
    "#se resalta que los algoritmos de ordenamiento dichos por el docente son .sort\n",
    "#entre otros que no se usan max y remove no son de ordenamiento"
   ]
  },
  {
   "cell_type": "markdown",
   "metadata": {},
   "source": [
    "## Punto número 18"
   ]
  },
  {
   "cell_type": "code",
   "execution_count": 16,
   "metadata": {},
   "outputs": [
    {
     "name": "stdout",
     "output_type": "stream",
     "text": [
      "digite de que orden es su matriz cuadrada: 3\n",
      "escriba el digito # 1 de la fila: 1\n",
      "escriba el digito # 2 de la fila: 2\n",
      "escriba el digito # 3 de la fila: 3\n",
      "escriba el digito # 1 de la fila: 4\n",
      "escriba el digito # 2 de la fila: 1\n",
      "escriba el digito # 3 de la fila: 1\n",
      "escriba el digito # 1 de la fila: 5\n",
      "escriba el digito # 2 de la fila: 6\n",
      "escriba el digito # 3 de la fila: 7\n",
      "la matriz triangular U es la siguiente: \n",
      "[1, 2, 3] \n",
      "[0, 1, 1] \n",
      "[0, 0, 7] \n",
      "la fila con más unos es la: 2\n"
     ]
    }
   ],
   "source": [
    "#Leer una matriz cuadrada A, obtener su matriz triangular superior\n",
    "# asociada U y determinar qué fila de U contiene la\n",
    "#mayor cantidad de unos.\n",
    "A=[] \n",
    "U=[] \n",
    "con1=[]\n",
    "\n",
    "#separo variable para las matrices\n",
    "\n",
    "o=int(input('digite de que orden es su matriz cuadrada: ')) #ingreso matriz\n",
    "\n",
    "\n",
    "for i in range(o): #itero las filas\n",
    "      A.append([]) \n",
    "      for j in range (o):          #itero las columnas ya ingresando valor\n",
    "         A[i].append(int(input(f'escriba el digito # {j+1} de la fila: ')))\n",
    "          \n",
    "U=A.copy()      #hago una copia de A para poder trabajarla \n",
    "for i in range(o): \n",
    "      for j in range (o):          #ciclo para llegara a cada elemento\n",
    "         if i<=j:           #condicion para que este en la triangular superior\n",
    "             U[i][j]=A[i][j]     #se deja igual si se cumple\n",
    "         else:\n",
    "             U[i][j]=0  #sino es cero\n",
    "\n",
    "print('la matriz triangular U es la siguiente: ')\n",
    "for i in range(o):           \n",
    "    print(A[i], end=' ') #imprime los resultados\n",
    "    print()  #para imprimir de manera mas entendible \n",
    "    \n",
    "\n",
    "def cont(i): #definimos funcion para contar los unos\n",
    "    con=0\n",
    "    for j in range (o):\n",
    "        if U[i][j]==1:\n",
    "            con+=1\n",
    "    return con\n",
    "            \n",
    "\n",
    "for i in range(o):      #se almacenan los resultados en una lista aparte\n",
    "    con1.append(cont(i))\n",
    "    \n",
    "maximo= 0\n",
    "for m in range(len(con1)): #de a lista aparte se saca el mayor valor \n",
    "    if con1[m]> maximo:\n",
    "        maximo= con1[m]\n",
    "        fil=m+1 #se alamacena el valor de la fila correspondiente al mayor\n",
    "print('la fila con más unos es la:',fil) #se imprimen los resultados"
   ]
  },
  {
   "cell_type": "markdown",
   "metadata": {},
   "source": [
    "## Punto número 19"
   ]
  },
  {
   "cell_type": "markdown",
   "metadata": {},
   "source": [
    "Pendiente de entrega "
   ]
  },
  {
   "cell_type": "markdown",
   "metadata": {},
   "source": [
    "## Punto número 20"
   ]
  },
  {
   "cell_type": "code",
   "execution_count": 1,
   "metadata": {},
   "outputs": [
    {
     "name": "stdout",
     "output_type": "stream",
     "text": [
      "digite # de filas de su matriz: 4\n",
      "digite # de columnas de su matriz: 5\n",
      "escriba el digito 1 de la fila 1: 1\n",
      "escriba el digito 2 de la fila 1: 2\n",
      "escriba el digito 3 de la fila 1: 3\n",
      "escriba el digito 4 de la fila 1: 4\n",
      "escriba el digito 5 de la fila 1: 5\n",
      "escriba el digito 1 de la fila 2: 6\n",
      "escriba el digito 2 de la fila 2: 7\n",
      "escriba el digito 3 de la fila 2: 8\n",
      "escriba el digito 4 de la fila 2: 9\n",
      "escriba el digito 5 de la fila 2: 10\n",
      "escriba el digito 1 de la fila 3: 11\n",
      "escriba el digito 2 de la fila 3: 12\n",
      "escriba el digito 3 de la fila 3: 13\n",
      "escriba el digito 4 de la fila 3: 14\n",
      "escriba el digito 5 de la fila 3: 15\n",
      "escriba el digito 1 de la fila 4: 16\n",
      "escriba el digito 2 de la fila 4: 17\n",
      "escriba el digito 3 de la fila 4: 18\n",
      "escriba el digito 4 de la fila 4: 19\n",
      "escriba el digito 5 de la fila 4: 20\n",
      "\n",
      "la matriz original es la siguiente:\n",
      "[1, 2, 3, 4, 5] \n",
      "[6, 7, 8, 9, 10] \n",
      "[11, 12, 13, 14, 15] \n",
      "[16, 17, 18, 19, 20] \n",
      "\n",
      "la matriz rotada 90 grados antihorario es la siguiente:\n",
      "[5, 10, 15, 20] \n",
      "[4, 9, 14, 19] \n",
      "[3, 8, 13, 18] \n",
      "[2, 7, 12, 17] \n",
      "[1, 6, 11, 16] \n"
     ]
    }
   ],
   "source": [
    "#Hacer un programa que lea una matriz y la rote 90 grados en \n",
    "#sentido antihorario. Imprimir la matriz resultante. Por\n",
    "#ejemplo, dada la matriz\n",
    "\n",
    "M=[] #variable para la matriz original\n",
    "c=[] #variable para la matriz rotada\n",
    "\n",
    "\n",
    "f=int(input('digite # de filas de su matriz: ')) #ingreso filas matriz\n",
    "co=int(input('digite # de columnas de su matriz: ')) #ingreso columnas matriz\n",
    "\n",
    "for i in range(f): #itero las filas\n",
    "      M.append([]) \n",
    "      for j in range (co):          #itero las columnas ya ingresando valor\n",
    "         M[i].append(int(input(f'escriba el digito {j+1} de la fila {i+1}: ')))\n",
    "\n",
    "\n",
    "for i in range(co): #itero las filas\n",
    "    c.append([]) \n",
    "    for j in range (f):    #itero las columnas ya ingresando valor\n",
    "          \n",
    "        c[i].append(M[j][co-1-i])#se selecciona la posicion en la matriz vieja\n",
    "                                 #teniendo en cuenta la relacion matematica\n",
    "                                 #que existe entre la matriz original y la \n",
    "                                 #rotada 90 grados antihorario\n",
    "print()\n",
    "print('la matriz original es la siguiente:')                                 \n",
    "for i in range(f):           \n",
    "    print(M[i], end=' ') #imprime los resultados\n",
    "    print()  #para imprimir de manera mas entendible \n",
    "\n",
    "print()\n",
    "print('la matriz rotada 90 grados antihorario es la siguiente:')       \n",
    "for i in range(co):           \n",
    "    print(c[i], end=' ') #imprime los resultados\n",
    "    print()  #para imprimir de manera mas entendible "
   ]
  },
  {
   "cell_type": "code",
   "execution_count": null,
   "metadata": {},
   "outputs": [],
   "source": []
  }
 ],
 "metadata": {
  "kernelspec": {
   "display_name": "Python 3",
   "language": "python",
   "name": "python3"
  },
  "language_info": {
   "codemirror_mode": {
    "name": "ipython",
    "version": 3
   },
   "file_extension": ".py",
   "mimetype": "text/x-python",
   "name": "python",
   "nbconvert_exporter": "python",
   "pygments_lexer": "ipython3",
   "version": "3.7.3"
  }
 },
 "nbformat": 4,
 "nbformat_minor": 2
}
